{
 "cells": [
  {
   "cell_type": "code",
   "execution_count": 1,
   "metadata": {},
   "outputs": [],
   "source": [
    "import requests\n",
    "from bs4 import BeautifulSoup\n",
    "import csv\n",
    "import time"
   ]
  },
  {
   "cell_type": "code",
   "execution_count": 2,
   "metadata": {},
   "outputs": [],
   "source": [
    "# Base URL for IMDB movie search\n",
    "BASE_URL = \"https://www.imdb.com/search/title/?title_type=feature&start={}&ref_=adv_nxt\"\n",
    "\n",
    "headers = {\"User-Agent\": \"Mozilla/5.0\"}"
   ]
  },
  {
   "cell_type": "code",
   "execution_count": null,
   "metadata": {},
   "outputs": [
    {
     "name": "stdout",
     "output_type": "stream",
     "text": [
      "The page has loaded. You can now click the 'Load More' buttons manually if desired.\n",
      "Found 6150 movies.\n",
      "✅ Scraping complete! Data saved to movies.csv\n"
     ]
    }
   ],
   "source": [
    "from selenium import webdriver\n",
    "import time\n",
    "from bs4 import BeautifulSoup\n",
    "import csv\n",
    "\n",
    "# Start the driver\n",
    "driver = webdriver.Chrome()\n",
    "\n",
    "# Open the IMDB search page for feature films\n",
    "url = \"https://www.imdb.com/search/title/?title_type=feature\"\n",
    "driver.get(url)\n",
    "print(\"The page has loaded. You can now click the 'Load More' buttons manually if desired.\")\n",
    "# Pause the script until you press Enter\n",
    "input(\"Press Enter to continue with scraping...\")\n",
    "\n",
    "# Once ready, extract the page source and close the driver\n",
    "html = driver.page_source\n",
    "driver.quit()\n",
    "\n",
    "# Parse with BeautifulSoup\n",
    "soup = BeautifulSoup(html, \"html.parser\")\n",
    "\n",
    "# Find all movie containers (adjust the selector if necessary)\n",
    "movies = soup.find_all(\"li\", class_=\"ipc-metadata-list-summary-item\")\n",
    "print(f\"Found {len(movies)} movies.\")\n",
    "\n",
    "# Write data to CSV\n",
    "with open(\"movies.csv\", \"w\", newline=\"\", encoding=\"utf-8\") as file:\n",
    "    writer = csv.writer(file)\n",
    "    writer.writerow([\"Title\", \"Year\", \"Metascore\", \"Total Ratings\", \"Rating\", \"Duration\", \"Parental Rating\"])  # Column headers\n",
    "\n",
    "    for movie in movies:\n",
    "        # Extract Title (adjust selector as needed)\n",
    "        title_tag = movie.find(\"h3\", class_=\"ipc-title__text\")\n",
    "        title = title_tag.text.strip() if title_tag else \"N/A\"\n",
    "\n",
    "        # Extract Year (update selector based on current IMDB structure)\n",
    "        # year_tag = movie.find(\"span\", class_=\"sc-d5ea4b9d-7 URyjV dli-title-metadata-item\")\n",
    "        # year = year_tag.text.strip() if year_tag else \"N/A\"\n",
    "\n",
    "        # Extract Rating (update selector as needed)\n",
    "        rating_tag = movie.find(\"span\", class_=\"sc-b0901df4-0 bXIOoL metacritic-score-box\")\n",
    "        Metascore = rating_tag.text.strip() if rating_tag else \"N/A\"\n",
    "\n",
    "        total_ratings = movie.find('span', class_= 'ipc-rating-star--voteCount')\n",
    "        total_r = total_ratings.text.strip() if total_ratings else \"N/A\"\n",
    "\n",
    "        rating_out_of_10 = movie.find(\"span\", class_=\"ipc-rating-star--rating\")\n",
    "        rating = rating_out_of_10.text.strip() if rating_out_of_10 else \"N/A\"\n",
    "\n",
    "        # duration_of_movie = movie.find('span', class_ = 'sc-d5ea4b9d-7 URyjV dli-title-metadata-item')\n",
    "        # duration = duration_of_movie.text.strip() if duration_of_movie else 'N/A'\n",
    "\n",
    "        # parental_rating = movie.find('span', class_ = 'sc-d5ea4b9d-7 URyjV dli-title-metadata-item')\n",
    "        # p_rating = parental_rating.text.strip() if parental_rating else 'N/A'\n",
    "        metadata_spans = movie.find_all('span', class_='sc-d5ea4b9d-7 URyjV dli-title-metadata-item')\n",
    "        duration = metadata_spans[0].text.strip() if len(metadata_spans) > 0 else 'N/A'\n",
    "        p_rating = metadata_spans[1].text.strip() if len(metadata_spans) > 1 else 'N/A'\n",
    "        year = metadata_spans[2].text.strip() if len(metadata_spans) > 2 else 'N/A'\n",
    "\n",
    "\n",
    "        writer.writerow([title, year, Metascore, total_r, rating, duration, p_rating])\n",
    "\n",
    "print(\"✅ Scraping complete! Data saved to movies.csv\")\n"
   ]
  },
  {
   "cell_type": "code",
   "execution_count": 34,
   "metadata": {},
   "outputs": [],
   "source": [
    "### Rename the columns to be in the right order, columns = Year, Duration, Parental Rating"
   ]
  },
  {
   "cell_type": "code",
   "execution_count": null,
   "metadata": {},
   "outputs": [
    {
     "name": "stdout",
     "output_type": "stream",
     "text": [
      "The page has loaded. You can now click the 'Load More' buttons manually if desired.\n",
      "Found 6150 TV series on this page.\n",
      "✅ Scraping complete! Data saved to tv_shows.csv.\n"
     ]
    }
   ],
   "source": [
    "from selenium import webdriver\n",
    "import time\n",
    "from bs4 import BeautifulSoup\n",
    "import csv\n",
    "\n",
    "# Start the driver\n",
    "driver = webdriver.Chrome()\n",
    "\n",
    "# Open the IMDB search page for TV series (sorted by num_votes)\n",
    "url = \"https://www.imdb.com/search/title/?title_type=tv_series&sort=num_votes,desc\"\n",
    "driver.get(url)\n",
    "print(\"The page has loaded. You can now click the 'Load More' buttons manually if desired.\")\n",
    "input(\"Press Enter to continue with scraping after you've loaded more results...\")\n",
    "\n",
    "# Once ready, extract the page source and close the driver\n",
    "html = driver.page_source\n",
    "driver.quit()\n",
    "\n",
    "# Parse with BeautifulSoup\n",
    "soup = BeautifulSoup(html, \"html.parser\")\n",
    "\n",
    "# Find all “show” containers\n",
    "movies = soup.find_all(\"li\", class_=\"ipc-metadata-list-summary-item\")\n",
    "print(f\"Found {len(movies)} TV series on this page.\")\n",
    "\n",
    "# Open CSV and write headers\n",
    "with open(\"tv_shows.csv\", \"w\", newline=\"\", encoding=\"utf-8\") as file:\n",
    "    writer = csv.writer(file)\n",
    "    # Align the headers with the actual data fields you’re extracting below\n",
    "    writer.writerow([\"Title\", \"Years\", \"Content Rating\", \"Total Ratings\", \"IMDb Rating\"])\n",
    "\n",
    "    for movie in movies:\n",
    "        # 1) Title\n",
    "        title_tag = movie.find(\"h3\", class_=\"ipc-title__text\")\n",
    "        title = title_tag.text.strip() if title_tag else \"N/A\"\n",
    "\n",
    "        # 2) Vote Count (Total Ratings)\n",
    "        total_ratings = movie.find(\"span\", class_=\"ipc-rating-star--voteCount\")\n",
    "        total_r = total_ratings.text.strip() if total_ratings else \"N/A\"\n",
    "\n",
    "        # 3) IMDb Rating out of 10\n",
    "        rating_out_of_10 = movie.find(\"span\", class_=\"ipc-rating-star--rating\")\n",
    "        rating = rating_out_of_10.text.strip() if rating_out_of_10 else \"N/A\"\n",
    "\n",
    "        # 4) Additional metadata items\n",
    "        #    E.g. [Series Type, Years, Content Rating] in some order\n",
    "        #    This depends on actual HTML structure, so adjust if needed.\n",
    "        metadata_spans = movie.find_all(\"span\", class_=\"sc-d5ea4b9d-7 URyjV dli-title-metadata-item\")\n",
    "        \n",
    "        # - Series Type\n",
    "        # - Years\n",
    "        # - Content Rating (like TV-14, TV-MA)\n",
    "        \n",
    "        series_type = metadata_spans[0].text.strip() if len(metadata_spans) > 0 else \"N/A\"\n",
    "        years = metadata_spans[1].text.strip() if len(metadata_spans) > 1 else \"N/A\"\n",
    "\n",
    "        # Write one row per show\n",
    "        writer.writerow([title, years, series_type, total_r, rating])\n",
    "\n",
    "print(\"✅ Scraping complete! Data saved to tv_shows.csv.\")\n"
   ]
  }
 ],
 "metadata": {
  "kernelspec": {
   "display_name": "Python 3",
   "language": "python",
   "name": "python3"
  },
  "language_info": {
   "codemirror_mode": {
    "name": "ipython",
    "version": 3
   },
   "file_extension": ".py",
   "mimetype": "text/x-python",
   "name": "python",
   "nbconvert_exporter": "python",
   "pygments_lexer": "ipython3",
   "version": "3.12.3"
  }
 },
 "nbformat": 4,
 "nbformat_minor": 2
}
